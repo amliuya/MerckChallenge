{
 "cells": [
  {
   "cell_type": "code",
   "execution_count": 10,
   "metadata": {
    "collapsed": true
   },
   "outputs": [
    {
     "ename": "TypeError",
     "evalue": "file must have a 'write' attribute",
     "output_type": "error",
     "traceback": [
      "\u001b[1;31m---------------------------------------------------------------------------\u001b[0m",
      "\u001b[1;31mTypeError\u001b[0m                                 Traceback (most recent call last)",
      "\u001b[1;32m<ipython-input-10-3dd188fd2831>\u001b[0m in \u001b[0;36m<module>\u001b[1;34m\u001b[0m\n\u001b[0;32m      3\u001b[0m \u001b[1;33m\u001b[0m\u001b[0m\n\u001b[0;32m      4\u001b[0m \u001b[0mx\u001b[0m \u001b[1;33m=\u001b[0m  \u001b[0mdatasets\u001b[0m\u001b[1;33m.\u001b[0m\u001b[0mmake_friedman1\u001b[0m\u001b[1;33m(\u001b[0m\u001b[0mn_samples\u001b[0m \u001b[1;33m=\u001b[0m \u001b[1;36m50\u001b[0m\u001b[1;33m,\u001b[0m \u001b[0mn_features\u001b[0m \u001b[1;33m=\u001b[0m \u001b[1;36m5\u001b[0m\u001b[1;33m,\u001b[0m \u001b[0mnoise\u001b[0m \u001b[1;33m=\u001b[0m \u001b[1;36m0\u001b[0m\u001b[1;33m)\u001b[0m\u001b[1;33m\u001b[0m\u001b[1;33m\u001b[0m\u001b[0m\n\u001b[1;32m----> 5\u001b[1;33m \u001b[0mpickle\u001b[0m\u001b[1;33m.\u001b[0m\u001b[0mdump\u001b[0m\u001b[1;33m(\u001b[0m\u001b[0mx\u001b[0m\u001b[1;33m,\u001b[0m \u001b[1;34m'~/friedman1'\u001b[0m\u001b[1;33m)\u001b[0m\u001b[1;33m\u001b[0m\u001b[1;33m\u001b[0m\u001b[0m\n\u001b[0m",
      "\u001b[1;31mTypeError\u001b[0m: file must have a 'write' attribute"
     ]
    }
   ],
   "source": [
    "import pickle\n",
    "from sklearn import datasets\n",
    "\n",
    "x =  datasets.make_friedman1(n_samples = 50, n_features = 5, noise = 0)\n",
    "pickle.dump(x, '~/friedman1')"
   ]
  },
  {
   "cell_type": "code",
   "execution_count": null,
   "metadata": {},
   "outputs": [],
   "source": []
  },
  {
   "cell_type": "code",
   "execution_count": 16,
   "metadata": {},
   "outputs": [
    {
     "name": "stdout",
     "output_type": "stream",
     "text": [
      "Wall time: 12.2 s\n",
      "{'max_features': 0.5, 'max_samples': 0.4, 'min_samples_leaf': 0.1, 'n_estimators': 4}\n",
      "0.19082367577547862\n",
      "Wall time: 11.5 s\n",
      "{'n_estimators': 4, 'min_samples_leaf': 0.1, 'max_samples': 0.4, 'max_features': 0.5}\n",
      "0.2494112665310301\n"
     ]
    }
   ],
   "source": [
    "#compare grid and random search. search over all combinations. random forest\n",
    "\n",
    "'''\n",
    "note that, for random forest:\n",
    "n_estimators = num.trees\n",
    "min_samples_leaf = min.node.size\n",
    "max_features = mtry\n",
    "max_samples = sample.fraction\n",
    "'''\n",
    "\n",
    "import numpy as np\n",
    "from sklearn import datasets\n",
    "from sklearn.ensemble import RandomForestRegressor\n",
    "from sklearn import model_selection\n",
    "import time\n",
    "\n",
    "x =  datasets.make_friedman1(n_samples = 50, n_features = 5, noise = 0)\n",
    "par_grid = {'n_estimators':[1,2,3,4,5], \n",
    "        'min_samples_leaf':np.linspace(0.1,0.5,5), \n",
    "        'max_features':np.linspace(0.1,0.5,5), \n",
    "        'max_samples':np.linspace(0.1,0.5,5)}\n",
    "\n",
    "rf = RandomForestRegressor()\n",
    "gs = model_selection.GridSearchCV(estimator = rf, param_grid = par_grid, cv = 3)\n",
    "%time gs.fit(x[0], x[1])\n",
    "print(gs.best_params_)\n",
    "print(gs.best_score_)\n",
    "\n",
    "rs = model_selection.RandomizedSearchCV(estimator = rf, \n",
    "                                    param_distributions = par_grid,\n",
    "                                    n_iter = 5**4, \n",
    "                                    cv = 3)\n",
    "                                    \n",
    "%time rs.fit(x[0], x[1])\n",
    "print(rs.best_params_)\n",
    "print(rs.best_score_)"
   ]
  },
  {
   "cell_type": "code",
   "execution_count": null,
   "metadata": {},
   "outputs": [],
   "source": [
    "#compare grid and random search. search along only 1 parameter at a time. random forest.\n",
    "import numpy as np\n",
    "from sklearn import datasets\n",
    "from sklearn.ensemble import RandomForestRegressor\n",
    "from sklearn import model_selection\n",
    "import time\n",
    "\n",
    "x = datasets.make_friedman1(n_samples = 50, n_features = 5, noise = 0)\n",
    "\n",
    "#I decided to define the default parameters as somewhere in the middle of the entire space\n",
    "def_pars = {'n_estimators':3, 'min_samples_leaf':0.3, 'max_samples':0.3, 'max_features':0.3}\n",
    "best_pars = def_pars\n",
    "\n",
    "param_grid = {'n_estimators':[1,2,3,4,5], \n",
    "        'min_samples_leaf':np.linspace(0.1,0.5,5), \n",
    "        'max_features':np.linspace(0.1,0.5,5), \n",
    "        'max_samples':np.linspace(0.1,0.5,5)}\n",
    "space_sizes = {'n_estimators':5, 'min_samples_leaf':5, 'max_features':5, 'max_samples':5}\n",
    "\n",
    "for(par in param_grid):\n",
    "    rf = RandomForestRegressor(n_estimators = best_pars['n_estimators'],\n",
    "                                min_samples_leaf = best_pars['min_samples_leaf'],\n",
    "                                max_samples = best_pars['max_samples'],\n",
    "                                max_features = best_pars['max_features']\n",
    "                               )\n",
    "    gs = model_selection.GridSearchCV(estimator = rf,\n",
    "                                      param_grid = param_grid,\n",
    "                                      cv = 3,\n",
    "                                      scoring = 'neg_mean_squared_error'\n",
    "                                     )\n",
    "    gs.fit(x[0], x[1])\n",
    "    rs = model_selection.RandomizedSearchCV(estimator = rf,\n",
    "                                           param_distributions = param_grid,\n",
    "                                           cv = 3,\n",
    "                                            n_iter = 5\n",
    "                                           scoring = 'neg_mean_squared_error')\n",
    "    rs.fit(x[0], x[1])"
   ]
  },
  {
   "cell_type": "code",
   "execution_count": null,
   "metadata": {},
   "outputs": [],
   "source": []
  }
 ],
 "metadata": {
  "kernelspec": {
   "display_name": "Python 3",
   "language": "python",
   "name": "python3"
  },
  "language_info": {
   "codemirror_mode": {
    "name": "ipython",
    "version": 3
   },
   "file_extension": ".py",
   "mimetype": "text/x-python",
   "name": "python",
   "nbconvert_exporter": "python",
   "pygments_lexer": "ipython3",
   "version": "3.7.6"
  }
 },
 "nbformat": 4,
 "nbformat_minor": 4
}
