{
 "cells": [
  {
   "cell_type": "code",
   "execution_count": 52,
   "metadata": {},
   "outputs": [],
   "source": [
    "from sklearn import datasets\n",
    "\n",
    "n = 5\n",
    "x_train = [0]*n\n",
    "x_test =[0]*n\n",
    "y_train = [0]*n\n",
    "y_test = [0]*n\n",
    "\n",
    "for i in range(0,n):\n",
    "    data = datasets.make_friedman1(n_samples = 100, n_features = 5, noise = 1)\n",
    "    x_train[i] = data[0][0:50]\n",
    "    x_test[i] = data[0][50:data[0].shape[0]]\n",
    "    y_train[i] = data[1][0:50]\n",
    "    y_test[i] = data[1][50:data[1].shape[0]]"
   ]
  },
  {
   "cell_type": "code",
   "execution_count": 50,
   "metadata": {},
   "outputs": [
    {
     "ename": "IndentationError",
     "evalue": "expected an indented block (<ipython-input-50-01d8bd196c70>, line 26)",
     "output_type": "error",
     "traceback": [
      "\u001b[1;36m  File \u001b[1;32m\"<ipython-input-50-01d8bd196c70>\"\u001b[1;36m, line \u001b[1;32m26\u001b[0m\n\u001b[1;33m    rf = RandomForestRegressor()\u001b[0m\n\u001b[1;37m     ^\u001b[0m\n\u001b[1;31mIndentationError\u001b[0m\u001b[1;31m:\u001b[0m expected an indented block\n"
     ]
    }
   ],
   "source": [
    "#compare grid and random search. search over all combinations. random forest\n",
    "\n",
    "'''\n",
    "note that, for random forest:\n",
    "n_estimators = num.trees\n",
    "min_samples_leaf = min.node.size\n",
    "max_features = mtry\n",
    "max_samples = sample.fraction\n",
    "'''\n",
    "\n",
    "import pandas as pd\n",
    "import numpy as np\n",
    "from sklearn import datasets\n",
    "from sklearn.ensemble import RandomForestRegressor\n",
    "from sklearn import model_selection\n",
    "import time\n",
    "\n",
    "par_grid = {'n_estimators':[1,2,3,4,5], \n",
    "        'min_samples_leaf':np.linspace(0.1,0.5,5), \n",
    "        'max_features':np.linspace(0.1,0.5,5), \n",
    "        'max_samples':np.linspace(0.1,0.5,5)}\n",
    "\n",
    "res = pd.DataFrame(np.empty(5,3), columns = ['score', 'time', 'params'])\n",
    "\n",
    "for i in range(0,n):\n",
    "rf = RandomForestRegressor()\n",
    "gs = model_selection.GridSearchCV(estimator = rf, param_grid = par_grid, cv = 3)\n",
    "gs.fit(x[0], x[1])\n",
    "print(gs.best_params_)\n",
    "print(gs.best_score_)\n",
    "\n",
    "rs = model_selection.RandomizedSearchCV(estimator = rf, \n",
    "                                    param_distributions = par_grid,\n",
    "                                    n_iter = 5**4, \n",
    "                                    cv = 3)\n",
    "                                    \n",
    "%time rs.fit(x[0], x[1])\n",
    "print(rs.best_params_)\n",
    "print(rs.best_score_)"
   ]
  },
  {
   "cell_type": "code",
   "execution_count": 18,
   "metadata": {},
   "outputs": [
    {
     "name": "stdout",
     "output_type": "stream",
     "text": [
      "{'n_estimators': 3, 'min_samples_leaf': 0.4, 'max_samples': 0.5, 'max_features': 0.30000000000000004}\n",
      "{'n_estimators': 3, 'min_samples_leaf': 0.4, 'max_samples': 0.5, 'max_features': 0.30000000000000004}\n"
     ]
    }
   ],
   "source": [
    "#compare grid and random search. search along only 1 parameter at a time. random forest.\n",
    "import numpy as np\n",
    "from sklearn import datasets\n",
    "from sklearn.ensemble import RandomForestRegressor\n",
    "from sklearn import model_selection\n",
    "import time\n",
    "\n",
    "x = datasets.make_friedman1(n_samples = 50, n_features = 5, noise = 0)\n",
    "\n",
    "#I decided to define the default parameters as somewhere in the middle of the entire space\n",
    "def_pars = {'n_estimators':3, 'min_samples_leaf':0.3, 'max_samples':0.3, 'max_features':0.3}\n",
    "best_pars_gs = def_pars\n",
    "best_pars_rs = def_pars\n",
    "\n",
    "param_grid = {'n_estimators':[1,2,3,4,5], \n",
    "        'min_samples_leaf':np.linspace(0.1,0.5,5), \n",
    "        'max_features':np.linspace(0.1,0.5,5), \n",
    "        'max_samples':np.linspace(0.1,0.5,5)}\n",
    "space_sizes = {'n_estimators':5, 'min_samples_leaf':5, 'max_features':5, 'max_samples':5}\n",
    "\n",
    "for par in param_grid:\n",
    "    rf = RandomForestRegressor(n_estimators = def_pars['n_estimators'],\n",
    "                                min_samples_leaf = def_pars['min_samples_leaf'],\n",
    "                                max_samples = def_pars['max_samples'],\n",
    "                                max_features = def_pars['max_features']\n",
    "                               )\n",
    "    one_par = {par:param_grid[par]}\n",
    "    gs = model_selection.GridSearchCV(estimator = rf,\n",
    "                                      param_grid = one_par,\n",
    "                                      cv = 3,\n",
    "                                      scoring = 'neg_mean_squared_error'\n",
    "                                     )\n",
    "    gs.fit(x[0], x[1])\n",
    "    best_pars_gs[par] = gs.best_params_[par]\n",
    "    rs = model_selection.RandomizedSearchCV(estimator = rf,\n",
    "                                           param_distributions = one_par,\n",
    "                                           cv = 3,\n",
    "                                            n_iter = space_sizes[par],\n",
    "                                           scoring = 'neg_mean_squared_error')\n",
    "    rs.fit(x[0], x[1])\n",
    "    best_pars_rs[par] = rs.best_params_[par]\n",
    "\n",
    "print(best_pars_gs)\n",
    "print(best_pars_rs)\n",
    "    "
   ]
  },
  {
   "cell_type": "code",
   "execution_count": null,
   "metadata": {},
   "outputs": [],
   "source": []
  }
 ],
 "metadata": {
  "kernelspec": {
   "display_name": "Python 3",
   "language": "python",
   "name": "python3"
  },
  "language_info": {
   "codemirror_mode": {
    "name": "ipython",
    "version": 3
   },
   "file_extension": ".py",
   "mimetype": "text/x-python",
   "name": "python",
   "nbconvert_exporter": "python",
   "pygments_lexer": "ipython3",
   "version": "3.7.6"
  }
 },
 "nbformat": 4,
 "nbformat_minor": 4
}
