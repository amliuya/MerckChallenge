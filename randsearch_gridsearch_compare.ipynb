{
 "cells": [
  {
   "cell_type": "code",
   "execution_count": 10,
   "metadata": {
    "collapsed": true
   },
   "outputs": [
    {
     "ename": "TypeError",
     "evalue": "file must have a 'write' attribute",
     "output_type": "error",
     "traceback": [
      "\u001b[1;31m---------------------------------------------------------------------------\u001b[0m",
      "\u001b[1;31mTypeError\u001b[0m                                 Traceback (most recent call last)",
      "\u001b[1;32m<ipython-input-10-3dd188fd2831>\u001b[0m in \u001b[0;36m<module>\u001b[1;34m\u001b[0m\n\u001b[0;32m      3\u001b[0m \u001b[1;33m\u001b[0m\u001b[0m\n\u001b[0;32m      4\u001b[0m \u001b[0mx\u001b[0m \u001b[1;33m=\u001b[0m  \u001b[0mdatasets\u001b[0m\u001b[1;33m.\u001b[0m\u001b[0mmake_friedman1\u001b[0m\u001b[1;33m(\u001b[0m\u001b[0mn_samples\u001b[0m \u001b[1;33m=\u001b[0m \u001b[1;36m50\u001b[0m\u001b[1;33m,\u001b[0m \u001b[0mn_features\u001b[0m \u001b[1;33m=\u001b[0m \u001b[1;36m5\u001b[0m\u001b[1;33m,\u001b[0m \u001b[0mnoise\u001b[0m \u001b[1;33m=\u001b[0m \u001b[1;36m0\u001b[0m\u001b[1;33m)\u001b[0m\u001b[1;33m\u001b[0m\u001b[1;33m\u001b[0m\u001b[0m\n\u001b[1;32m----> 5\u001b[1;33m \u001b[0mpickle\u001b[0m\u001b[1;33m.\u001b[0m\u001b[0mdump\u001b[0m\u001b[1;33m(\u001b[0m\u001b[0mx\u001b[0m\u001b[1;33m,\u001b[0m \u001b[1;34m'~/friedman1'\u001b[0m\u001b[1;33m)\u001b[0m\u001b[1;33m\u001b[0m\u001b[1;33m\u001b[0m\u001b[0m\n\u001b[0m",
      "\u001b[1;31mTypeError\u001b[0m: file must have a 'write' attribute"
     ]
    }
   ],
   "source": [
    "import pickle\n",
    "from sklearn import datasets\n",
    "\n",
    "x =  datasets.make_friedman1(n_samples = 50, n_features = 5, noise = 0)\n",
    "pickle.dump(x, '~/friedman1')"
   ]
  },
  {
   "cell_type": "code",
   "execution_count": null,
   "metadata": {},
   "outputs": [],
   "source": [
    "# import numpy as np\n",
    "from sklearn import datasets\n",
    "from sklearn.ensemble import RandomForestRegressor\n",
    "from sklearn import model_selection\n",
    "import time\n",
    "\n",
    "#use simulated regression dataset to build random forest and use built in algorithms to find the\n",
    "#best parameters \n",
    "x =  make_friedman1(n_samples = 50, n_features = 4, noise = 0)\n",
    "par_grid = {'n_estimators':np.linspace(1,5,5), \n",
    "        'min_samples_leaf':np.linspace(0.1,0.5,5), \n",
    "        'max_features':np.linspace(0.1,0.5,), \n",
    "        'max_samples':[0.01,0.1,0.2,0.3]}\n",
    "\n",
    "rf = RandomForestRegressor()\n",
    "gs = model_selection.GridSearchCV(estimator = rf, param_grid = par_grid, cv = 3)\n",
    "%time gs.fit(x[0], x[1])\n",
    "print(gs.best_params_)\n",
    "print(gs.best_score_)\n",
    "\n",
    "rs = model_selection.RandomizedSearchCV(estimator = rf, \n",
    "                                    param_distributions = par_grid\n",
    "                                    n_iter = 100, \n",
    "                                    cv = 3)\n",
    "%time rs.fit(x[0], x[1])\n",
    "print(rs.best_params_)\n",
    "print(rs.best_score_)"
   ]
  }
 ],
 "metadata": {
  "kernelspec": {
   "display_name": "Python 3",
   "language": "python",
   "name": "python3"
  },
  "language_info": {
   "codemirror_mode": {
    "name": "ipython",
    "version": 3
   },
   "file_extension": ".py",
   "mimetype": "text/x-python",
   "name": "python",
   "nbconvert_exporter": "python",
   "pygments_lexer": "ipython3",
   "version": "3.7.6"
  }
 },
 "nbformat": 4,
 "nbformat_minor": 4
}
