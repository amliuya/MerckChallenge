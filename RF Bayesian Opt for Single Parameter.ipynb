{
 "cells": [
  {
   "cell_type": "code",
   "execution_count": 14,
   "metadata": {},
   "outputs": [
    {
     "name": "stdout",
     "output_type": "stream",
     "text": [
      "100%|██████████| 100/100 [00:06<00:00, 15.20it/s, best loss: 2.2496620567793877]\n",
      "{'num_leaves': 32}\n",
      "[{'loss': 2.374858595715643, 'status': 'ok'}, {'loss': 2.464362020272078, 'status': 'ok'}, {'loss': 2.4262166287405647, 'status': 'ok'}, {'loss': 2.5872506223629435, 'status': 'ok'}, {'loss': 2.5021569403960093, 'status': 'ok'}, {'loss': 2.488457583259586, 'status': 'ok'}, {'loss': 2.3634606116773704, 'status': 'ok'}, {'loss': 2.546183090378856, 'status': 'ok'}, {'loss': 2.4227708059395203, 'status': 'ok'}, {'loss': 2.3326534208727727, 'status': 'ok'}, {'loss': 2.601054914077622, 'status': 'ok'}, {'loss': 2.3746495154075085, 'status': 'ok'}, {'loss': 2.3492275002326286, 'status': 'ok'}, {'loss': 2.7800311663581128, 'status': 'ok'}, {'loss': 3.2393420590337945, 'status': 'ok'}, {'loss': 2.5814177789610717, 'status': 'ok'}, {'loss': 2.6053521265613053, 'status': 'ok'}, {'loss': 2.4518355002984236, 'status': 'ok'}, {'loss': 2.6517433680599836, 'status': 'ok'}, {'loss': 2.619479415602059, 'status': 'ok'}, {'loss': 2.5596242174773627, 'status': 'ok'}, {'loss': 2.393066201811458, 'status': 'ok'}, {'loss': 2.521623080732932, 'status': 'ok'}, {'loss': 2.3871526481951304, 'status': 'ok'}, {'loss': 2.4654371362638763, 'status': 'ok'}, {'loss': 2.989594790789228, 'status': 'ok'}, {'loss': 2.625213201621553, 'status': 'ok'}, {'loss': 2.487873357199558, 'status': 'ok'}, {'loss': 2.518976776209963, 'status': 'ok'}, {'loss': 2.497184257199059, 'status': 'ok'}, {'loss': 2.6466699538034915, 'status': 'ok'}, {'loss': 2.4785227311232845, 'status': 'ok'}, {'loss': 3.282112866907045, 'status': 'ok'}, {'loss': 2.60114022013099, 'status': 'ok'}, {'loss': 2.5730714043672918, 'status': 'ok'}, {'loss': 2.5008566134256993, 'status': 'ok'}, {'loss': 2.4467922916349645, 'status': 'ok'}, {'loss': 2.5593131713524477, 'status': 'ok'}, {'loss': 2.3977508853570115, 'status': 'ok'}, {'loss': 2.6255487921155423, 'status': 'ok'}, {'loss': 2.6667931108540888, 'status': 'ok'}, {'loss': 2.3176371558935576, 'status': 'ok'}, {'loss': 2.6527346613729956, 'status': 'ok'}, {'loss': 2.477695508451839, 'status': 'ok'}, {'loss': 2.509571916352251, 'status': 'ok'}, {'loss': 2.2496620567793877, 'status': 'ok'}, {'loss': 2.439729348315468, 'status': 'ok'}, {'loss': 2.526749034284133, 'status': 'ok'}, {'loss': 2.7202706261180185, 'status': 'ok'}, {'loss': 2.5758187496574982, 'status': 'ok'}, {'loss': 2.5417919091180416, 'status': 'ok'}, {'loss': 2.475270980854669, 'status': 'ok'}, {'loss': 2.678278697277795, 'status': 'ok'}, {'loss': 2.4254559867476857, 'status': 'ok'}, {'loss': 2.5770175860531435, 'status': 'ok'}, {'loss': 2.4437730007141556, 'status': 'ok'}, {'loss': 2.5245337053843526, 'status': 'ok'}, {'loss': 2.485551233375908, 'status': 'ok'}, {'loss': 2.5714332080606064, 'status': 'ok'}, {'loss': 2.4942191884254195, 'status': 'ok'}, {'loss': 2.481666671744229, 'status': 'ok'}, {'loss': 2.4459489771489005, 'status': 'ok'}, {'loss': 2.400916988371708, 'status': 'ok'}, {'loss': 2.5167166664226226, 'status': 'ok'}, {'loss': 2.5031093166999225, 'status': 'ok'}, {'loss': 2.729586897750546, 'status': 'ok'}, {'loss': 2.725231747737237, 'status': 'ok'}, {'loss': 2.3128657137504063, 'status': 'ok'}, {'loss': 2.717895001997161, 'status': 'ok'}, {'loss': 2.8804428133228956, 'status': 'ok'}, {'loss': 2.4646081259144084, 'status': 'ok'}, {'loss': 2.4970745716566327, 'status': 'ok'}, {'loss': 2.479338007843954, 'status': 'ok'}, {'loss': 2.805841983265618, 'status': 'ok'}, {'loss': 2.4371791128685505, 'status': 'ok'}, {'loss': 3.129163256393817, 'status': 'ok'}, {'loss': 2.5465452908953745, 'status': 'ok'}, {'loss': 2.6278820937690104, 'status': 'ok'}, {'loss': 2.998860958220838, 'status': 'ok'}, {'loss': 2.6810053483875147, 'status': 'ok'}, {'loss': 2.430787500511011, 'status': 'ok'}, {'loss': 2.4659158877050875, 'status': 'ok'}, {'loss': 2.457639830310079, 'status': 'ok'}, {'loss': 2.6445150806262427, 'status': 'ok'}, {'loss': 3.532058940473954, 'status': 'ok'}, {'loss': 2.5161742799828977, 'status': 'ok'}, {'loss': 2.5200928429533587, 'status': 'ok'}, {'loss': 2.537435572695778, 'status': 'ok'}, {'loss': 2.5522206659757893, 'status': 'ok'}, {'loss': 2.4769841977559546, 'status': 'ok'}, {'loss': 2.612393677479227, 'status': 'ok'}, {'loss': 2.472350762210611, 'status': 'ok'}, {'loss': 2.4738326244813544, 'status': 'ok'}, {'loss': 2.464910478859519, 'status': 'ok'}, {'loss': 2.3210485332943604, 'status': 'ok'}, {'loss': 2.6037021189404617, 'status': 'ok'}, {'loss': 2.540326587640532, 'status': 'ok'}, {'loss': 2.4414205407936085, 'status': 'ok'}, {'loss': 2.420655051080751, 'status': 'ok'}, {'loss': 2.612402744701976, 'status': 'ok'}]\n"
     ]
    }
   ],
   "source": [
    "import pickle\n",
    "# Import packages\n",
    "import numpy as np\n",
    "import time\n",
    "from sklearn.metrics import mean_squared_error\n",
    "from sklearn import datasets\n",
    "from sklearn.ensemble import RandomForestRegressor\n",
    "\n",
    "from hyperopt import hp, tpe, fmin, Trials, STATUS_OK\n",
    "from collections import OrderedDict\n",
    "\n",
    "reg_prob = datasets.make_friedman1(n_samples=100, n_features=10, noise=1.0, random_state=None)\n",
    "x_train = reg_prob[0][0:50]\n",
    "y_train = reg_prob[1][0:50]\n",
    "x_test = reg_prob[0][50:100]\n",
    "y_test = reg_prob[1][50:100]\n",
    "\n",
    "space= hp.choice('num_leaves', range(2, 100, 1))\n",
    "\n",
    "\n",
    "def objective(num_leaves):\n",
    "    \n",
    "    rf = RandomForestRegressor(num_leaves)\n",
    "    \n",
    "    # Training \n",
    "    rf.fit(x_train, y_train)\n",
    "    \n",
    "    # Making predictions and evaluating\n",
    "    y_pred = rf.predict(x_test)\n",
    "    mse = mean_squared_error(y_test,y_pred)\n",
    "    rmse = np.sqrt(mse)\n",
    "    \n",
    "    # Calculate time to evaluate\n",
    "\n",
    "    \n",
    "#    results = {'rmse': rmse, 'status': STATUS_OK, 'num_leaves': num_leaves, 'eval_time': time.time()}\n",
    "    \n",
    "    # Return RMSE\n",
    "    return rmse\n",
    "\n",
    "trials = Trials()\n",
    "best = fmin(objective,\n",
    "    space=space,\n",
    "    algo=tpe.suggest,\n",
    "    max_evals=100,\n",
    "    trials=trials)\n",
    "\n",
    "print(best)\n",
    "print(trials.results)"
   ]
  },
  {
   "cell_type": "code",
   "execution_count": null,
   "metadata": {},
   "outputs": [],
   "source": []
  }
 ],
 "metadata": {
  "kernelspec": {
   "display_name": "Python 3",
   "language": "python",
   "name": "python3"
  },
  "language_info": {
   "codemirror_mode": {
    "name": "ipython",
    "version": 3
   },
   "file_extension": ".py",
   "mimetype": "text/x-python",
   "name": "python",
   "nbconvert_exporter": "python",
   "pygments_lexer": "ipython3",
   "version": "3.7.2"
  }
 },
 "nbformat": 4,
 "nbformat_minor": 2
}
