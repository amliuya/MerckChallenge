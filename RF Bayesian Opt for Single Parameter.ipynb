{
 "cells": [
  {
   "cell_type": "code",
   "execution_count": 8,
   "metadata": {},
   "outputs": [
    {
     "name": "stdout",
     "output_type": "stream",
     "text": [
      "100%|██████████| 100/100 [00:06<00:00, 14.75it/s, best loss: 1.8985685587729968]\n",
      "{'num_leaves': 6}\n",
      "[{'loss': 2.3920331427694785, 'status': 'ok'}, {'loss': 2.636514851242141, 'status': 'ok'}, {'loss': 2.5557026682352255, 'status': 'ok'}, {'loss': 2.5323935383172467, 'status': 'ok'}, {'loss': 2.4388309389198515, 'status': 'ok'}, {'loss': 2.193065883577324, 'status': 'ok'}, {'loss': 2.328509012986903, 'status': 'ok'}, {'loss': 2.419652098456112, 'status': 'ok'}, {'loss': 2.4485808493141503, 'status': 'ok'}, {'loss': 2.3896393197833365, 'status': 'ok'}, {'loss': 2.2511536264387177, 'status': 'ok'}, {'loss': 2.4565995492608876, 'status': 'ok'}, {'loss': 2.6915104591471435, 'status': 'ok'}, {'loss': 2.520405852338146, 'status': 'ok'}, {'loss': 2.3219755746875657, 'status': 'ok'}, {'loss': 2.3950093375402055, 'status': 'ok'}, {'loss': 2.3915016041495627, 'status': 'ok'}, {'loss': 2.3822501623524173, 'status': 'ok'}, {'loss': 2.447092335869734, 'status': 'ok'}, {'loss': 2.5733471560843317, 'status': 'ok'}, {'loss': 2.2365174603901044, 'status': 'ok'}, {'loss': 2.521910251758133, 'status': 'ok'}, {'loss': 3.048090281571753, 'status': 'ok'}, {'loss': 2.0911597684076706, 'status': 'ok'}, {'loss': 2.572091166057823, 'status': 'ok'}, {'loss': 2.0194575505496757, 'status': 'ok'}, {'loss': 2.3960184368151447, 'status': 'ok'}, {'loss': 2.3156334050379472, 'status': 'ok'}, {'loss': 2.543587138391863, 'status': 'ok'}, {'loss': 2.2577636041213185, 'status': 'ok'}, {'loss': 2.515683935579775, 'status': 'ok'}, {'loss': 2.337110717829165, 'status': 'ok'}, {'loss': 2.4128010313648716, 'status': 'ok'}, {'loss': 2.2376940218846824, 'status': 'ok'}, {'loss': 2.342203754394575, 'status': 'ok'}, {'loss': 2.457044787642697, 'status': 'ok'}, {'loss': 2.425875759592775, 'status': 'ok'}, {'loss': 2.547780602289, 'status': 'ok'}, {'loss': 2.208422792912182, 'status': 'ok'}, {'loss': 2.264401012441248, 'status': 'ok'}, {'loss': 2.194118180233847, 'status': 'ok'}, {'loss': 2.356752356435045, 'status': 'ok'}, {'loss': 2.3723100367215433, 'status': 'ok'}, {'loss': 2.4276931526205625, 'status': 'ok'}, {'loss': 2.793776981426711, 'status': 'ok'}, {'loss': 2.3878111474175157, 'status': 'ok'}, {'loss': 2.1833886480253635, 'status': 'ok'}, {'loss': 2.1500551393546994, 'status': 'ok'}, {'loss': 2.4157242931531426, 'status': 'ok'}, {'loss': 2.3014276793486848, 'status': 'ok'}, {'loss': 2.3815565907030063, 'status': 'ok'}, {'loss': 2.2814577372261575, 'status': 'ok'}, {'loss': 2.4301659499329564, 'status': 'ok'}, {'loss': 2.4170600695377638, 'status': 'ok'}, {'loss': 3.081493828773464, 'status': 'ok'}, {'loss': 2.6175492201343493, 'status': 'ok'}, {'loss': 2.3274012290421053, 'status': 'ok'}, {'loss': 1.8985685587729968, 'status': 'ok'}, {'loss': 2.4940514479804903, 'status': 'ok'}, {'loss': 2.167696797207754, 'status': 'ok'}, {'loss': 2.178181744094596, 'status': 'ok'}, {'loss': 2.4117254277722053, 'status': 'ok'}, {'loss': 2.312045186356699, 'status': 'ok'}, {'loss': 2.350698719773983, 'status': 'ok'}, {'loss': 2.4799033781950413, 'status': 'ok'}, {'loss': 2.2806081031786443, 'status': 'ok'}, {'loss': 2.398424560301468, 'status': 'ok'}, {'loss': 3.156457484084931, 'status': 'ok'}, {'loss': 2.815930543192862, 'status': 'ok'}, {'loss': 2.305996817268541, 'status': 'ok'}, {'loss': 2.579341232820821, 'status': 'ok'}, {'loss': 2.329820091309155, 'status': 'ok'}, {'loss': 2.4682015797917476, 'status': 'ok'}, {'loss': 2.1986803727737945, 'status': 'ok'}, {'loss': 2.477346105690245, 'status': 'ok'}, {'loss': 2.500811302067058, 'status': 'ok'}, {'loss': 2.3304263489550925, 'status': 'ok'}, {'loss': 2.3577905336640606, 'status': 'ok'}, {'loss': 2.306966547684826, 'status': 'ok'}, {'loss': 2.17776389607961, 'status': 'ok'}, {'loss': 2.511662197275849, 'status': 'ok'}, {'loss': 2.418117340097783, 'status': 'ok'}, {'loss': 2.544532535715273, 'status': 'ok'}, {'loss': 2.34791547421001, 'status': 'ok'}, {'loss': 2.4221395428038055, 'status': 'ok'}, {'loss': 2.3189621178171786, 'status': 'ok'}, {'loss': 2.5423277920909193, 'status': 'ok'}, {'loss': 2.6802645793538806, 'status': 'ok'}, {'loss': 2.5265055416249846, 'status': 'ok'}, {'loss': 2.4718873325397586, 'status': 'ok'}, {'loss': 2.236316441439696, 'status': 'ok'}, {'loss': 2.691597976506383, 'status': 'ok'}, {'loss': 2.7992604443969524, 'status': 'ok'}, {'loss': 2.444822634999266, 'status': 'ok'}, {'loss': 2.1020035960995775, 'status': 'ok'}, {'loss': 2.2605787066902545, 'status': 'ok'}, {'loss': 2.3230076652902816, 'status': 'ok'}, {'loss': 2.365404377601652, 'status': 'ok'}, {'loss': 2.4514874223961143, 'status': 'ok'}, {'loss': 2.2998266527015367, 'status': 'ok'}]\n"
     ]
    }
   ],
   "source": [
    "import pickle\n",
    "# Import packages\n",
    "import numpy as np\n",
    "import time\n",
    "from sklearn.metrics import mean_squared_error\n",
    "from sklearn import datasets\n",
    "from sklearn.ensemble import RandomForestRegressor\n",
    "\n",
    "from hyperopt import hp, tpe, fmin, Trials, STATUS_OK\n",
    "from collections import OrderedDict\n",
    "\n",
    "reg_prob = datasets.make_friedman1(n_samples=110, n_features=10, noise=0.0, random_state=None)\n",
    "x_train = reg_prob[0][0:100]\n",
    "y_train = reg_prob[1][0:100]\n",
    "x_test = reg_prob[0][101:110]\n",
    "y_test = reg_prob[1][101:110]\n",
    "\n",
    "space= hp.choice('num_leaves', range(2, 100, 1))\n",
    "\n",
    "\n",
    "def objective(num_leaves):\n",
    "    \n",
    "    rf = RandomForestRegressor(num_leaves)\n",
    "    \n",
    "    # Training \n",
    "    rf.fit(x_train, y_train)\n",
    "    \n",
    "    # Making predictions and evaluating\n",
    "    y_pred = rf.predict(x_test)\n",
    "    mse = mean_squared_error(y_test,y_pred)\n",
    "    rmse = np.sqrt(mse)\n",
    "    \n",
    "    # Calculate time to evaluate\n",
    "\n",
    "    \n",
    "#    results = {'rmse': rmse, 'status': STATUS_OK, 'num_leaves': num_leaves, 'eval_time': time.time()}\n",
    "    \n",
    "#    print(results)\n",
    "    # Return dictionary\n",
    "    return rmse\n",
    "\n",
    "trials = Trials()\n",
    "best = fmin(objective,\n",
    "    space=space,\n",
    "    algo=tpe.suggest,\n",
    "    max_evals=100,\n",
    "    trials=trials)\n",
    "\n",
    "print(best)\n",
    "print(trials.results)"
   ]
  },
  {
   "cell_type": "code",
   "execution_count": null,
   "metadata": {},
   "outputs": [],
   "source": []
  }
 ],
 "metadata": {
  "kernelspec": {
   "display_name": "Python 3",
   "language": "python",
   "name": "python3"
  },
  "language_info": {
   "codemirror_mode": {
    "name": "ipython",
    "version": 3
   },
   "file_extension": ".py",
   "mimetype": "text/x-python",
   "name": "python",
   "nbconvert_exporter": "python",
   "pygments_lexer": "ipython3",
   "version": "3.7.2"
  }
 },
 "nbformat": 4,
 "nbformat_minor": 2
}
