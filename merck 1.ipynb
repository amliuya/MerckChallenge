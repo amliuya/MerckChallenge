{
 "cells": [
  {
   "cell_type": "code",
   "execution_count": 45,
   "metadata": {},
   "outputs": [
    {
     "name": "stdout",
     "output_type": "stream",
     "text": [
      "{'max_features': 0.01, 'max_samples': 0.3, 'min_samples_leaf': 0.01, 'n_estimators': 4}\n",
      "0.35382504292406053\n",
      "{'n_estimators': 4, 'min_samples_leaf': 0.01, 'max_samples': 0.01, 'max_features': 0.1}\n",
      "-0.05039326113123418\n"
     ]
    }
   ],
   "source": [
    "from sklearn import datasets\n",
    "from sklearn.ensemble import RandomForestRegressor\n",
    "from sklearn import model_selection\n",
    "\n",
    "#use simulated regression dataset to build random forest and use built in algorithms to find the\n",
    "#best parameters \n",
    "x = datasets.make_regression(n_samples =  100, n_features = 5, n_informative = 5)\n",
    "\n",
    "rf = RandomForestRegressor()\n",
    "rf.fit(x[0], x[1])\n",
    "par_grid = {'n_estimators':[1,2,3,4], \n",
    "        'min_samples_leaf':[0.01,0.1,0.2,0.3], \n",
    "        'max_features':[0.01,0.1,0.2,0.3], \n",
    "        'max_samples':[0.01,0.1,0.2,0.3]}\n",
    "gs = model_selection.GridSearchCV(estimator = rf, param_grid = par_grid, cv = 3)\n",
    "gs.fit(x[0], x[1])\n",
    "print(gs.best_params_)\n",
    "print(gs.best_score_)\n",
    "\n",
    "rs = model_selection.RandomizedSearchCV(estimator = rf, \n",
    "                                    param_distributions = par_grid, \n",
    "                                    n_iter = 10, \n",
    "                                    cv = 3)\n",
    "rs.fit(x[0], x[1])\n",
    "print(rs.best_params_)\n",
    "print(rs.best_score_)"
   ]
  },
  {
   "cell_type": "code",
   "execution_count": 25,
   "metadata": {},
   "outputs": [
    {
     "name": "stdout",
     "output_type": "stream",
     "text": [
      "0.9614757363257289\n",
      "0.8726348024592052\n"
     ]
    }
   ],
   "source": [
    "#build random forest using a simulated regression problem and test it\n",
    "rf = RandomForestRegressor()\n",
    "reg_prob = datasets.make_regression(n_samples =  110, n_features = 5, n_informative = 5)\n",
    "x_train = reg_prob[0][0:100]\n",
    "y_train = reg_prob[1][0:100]\n",
    "x_test = reg_prob[0][101:110]\n",
    "y_test = reg_prob[1][101:110]\n",
    "rf.fit(x_train, y_train)\n",
    "print(rf.score(x_train[0:9], y_train[0:9]))\n",
    "print(rf.score(x_test, y_test))"
   ]
  },
  {
   "cell_type": "code",
   "execution_count": 43,
   "metadata": {
    "scrolled": false
   },
   "outputs": [
    {
     "ename": "TypeError",
     "evalue": "can't multiply sequence by non-int of type 'float'",
     "output_type": "error",
     "traceback": [
      "\u001b[1;31m---------------------------------------------------------------------------\u001b[0m",
      "\u001b[1;31mTypeError\u001b[0m                                 Traceback (most recent call last)",
      "\u001b[1;32m<ipython-input-43-614694f24cdc>\u001b[0m in \u001b[0;36m<module>\u001b[1;34m\u001b[0m\n\u001b[1;32m----> 1\u001b[1;33m \u001b[1;36m0.5\u001b[0m\u001b[1;33m*\u001b[0m\u001b[1;33m[\u001b[0m\u001b[1;36m1\u001b[0m\u001b[1;33m,\u001b[0m\u001b[1;36m2\u001b[0m\u001b[1;33m]\u001b[0m\u001b[1;33m\u001b[0m\u001b[1;33m\u001b[0m\u001b[0m\n\u001b[0m",
      "\u001b[1;31mTypeError\u001b[0m: can't multiply sequence by non-int of type 'float'"
     ]
    }
   ],
   "source": [
    "0.5*[1,2]"
   ]
  }
 ],
 "metadata": {
  "kernelspec": {
   "display_name": "Python 3",
   "language": "python",
   "name": "python3"
  },
  "language_info": {
   "codemirror_mode": {
    "name": "ipython",
    "version": 3
   },
   "file_extension": ".py",
   "mimetype": "text/x-python",
   "name": "python",
   "nbconvert_exporter": "python",
   "pygments_lexer": "ipython3",
   "version": "3.7.6"
  }
 },
 "nbformat": 4,
 "nbformat_minor": 4
}
